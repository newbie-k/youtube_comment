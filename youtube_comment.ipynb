{
  "nbformat": 4,
  "nbformat_minor": 0,
  "metadata": {
    "colab": {
      "provenance": []
    },
    "kernelspec": {
      "name": "python3",
      "display_name": "Python 3"
    },
    "language_info": {
      "name": "python"
    }
  },
  "cells": [
    {
      "cell_type": "code",
      "metadata": {
        "id": "mOwvljanaVJG"
      },
      "source": [
        "api_key = 'api key'\n",
        "youtube = build('youtube', 'v3', developerKey=api_key)"
      ],
      "execution_count": null,
      "outputs": []
    },
    {
      "cell_type": "code",
      "metadata": {
        "id": "jBgcw2JJeXGk"
      },
      "source": [
        "request = youtube.commentThreads().list(\n",
        "        part='snippet',\n",
        "        videoId='MLTqFfqyrYw',\n",
        "        order='time',\n",
        "        maxResults=100\n",
        "    )\n",
        "response = request.execute()"
      ],
      "execution_count": null,
      "outputs": []
    },
    {
      "cell_type": "code",
      "source": [
        "import os\n",
        "import json\n",
        "from googleapiclient.discovery import build"
      ],
      "metadata": {
        "id": "SCOgcSM60qf7"
      },
      "execution_count": null,
      "outputs": []
    },
    {
      "cell_type": "code",
      "metadata": {
        "id": "oC3V1JqOSHRB",
        "colab": {
          "base_uri": "https://localhost:8080/",
          "height": 54
        },
        "outputId": "d37989f5-73d4-47b8-99f7-021301c23055"
      },
      "source": [
        "response['nextPageToken']"
      ],
      "execution_count": null,
      "outputs": [
        {
          "output_type": "execute_result",
          "data": {
            "text/plain": [
              "'Z2V0X25ld2VzdF9maXJzdC0tQ2dnSWdBUVZGN2ZST0JJRkNLZ2dHQUFTQlFpSklCZ0FFZ1VJaUNBWUFCSUZDSjBnR0FFU0JRaUhJQmdBR0FBaURnb01DSWVyaUlZR0VOaTAyTXdD'"
            ],
            "application/vnd.google.colaboratory.intrinsic+json": {
              "type": "string"
            }
          },
          "metadata": {},
          "execution_count": 14
        }
      ]
    },
    {
      "cell_type": "code",
      "metadata": {
        "colab": {
          "base_uri": "https://localhost:8080/"
        },
        "id": "drzHUXVBSMia",
        "outputId": "9a9644e3-5819-43ea-ce59-45cfd532de53"
      },
      "source": [
        "response['pageInfo']"
      ],
      "execution_count": null,
      "outputs": [
        {
          "output_type": "execute_result",
          "data": {
            "text/plain": [
              "{'totalResults': 100, 'resultsPerPage': 100}"
            ]
          },
          "metadata": {},
          "execution_count": 15
        }
      ]
    },
    {
      "cell_type": "code",
      "metadata": {
        "colab": {
          "base_uri": "https://localhost:8080/"
        },
        "id": "cAsT1Kw1QitW",
        "outputId": "1723ef2b-b542-4819-e1a8-e933d8acda35"
      },
      "source": [
        "len(response['items'])"
      ],
      "execution_count": null,
      "outputs": [
        {
          "output_type": "execute_result",
          "data": {
            "text/plain": [
              "100"
            ]
          },
          "metadata": {},
          "execution_count": 17
        }
      ]
    },
    {
      "cell_type": "code",
      "metadata": {
        "id": "8gImujNaTdqO"
      },
      "source": [
        "folder = '/content/comments/'\n",
        "txt = 1\n",
        "videoId = 'MLTqFfqyrYw'\n",
        "\n",
        "request = youtube.commentThreads().list(\n",
        "        part='snippet',\n",
        "        videoId=videoId,\n",
        "        order='time',\n",
        "        maxResults=100\n",
        "    )\n",
        "response = request.execute()\n",
        "while 'nextPageToken' in response:\n",
        "    for i in response['items']:\n",
        "        thread = i['snippet']\n",
        "        comment = thread['topLevelComment']['snippet']['textOriginal']\n",
        "        # print(comment)\n",
        "        with open(folder+str(txt)+'.txt', 'w') as f:\n",
        "            f.write(comment)\n",
        "            txt += 1\n",
        "        reply_count = thread['totalReplyCount']\n",
        "        # print(reply_count)\n",
        "\n",
        "        if reply_count != 0:\n",
        "            # print('----TOPIC----')\n",
        "            # print(comment)\n",
        "            # print(reply_count)\n",
        "\n",
        "            # get replies from a comment\n",
        "            comment_id = thread['topLevelComment']['id']\n",
        "            request_reply = youtube.comments().list(\n",
        "                part='snippet',\n",
        "                parentId=comment_id,\n",
        "                maxResults=100\n",
        "            )\n",
        "            response_reply = request_reply.execute()\n",
        "\n",
        "            # number of replies\n",
        "            replies = response_reply['items']\n",
        "            # print('^', len(replies))\n",
        "\n",
        "            for c in replies:\n",
        "                reply = c['snippet']['textOriginal']\n",
        "                with open(folder+str(txt)+'.txt', 'w') as f:\n",
        "                    f.write(reply)\n",
        "                    txt += 1\n",
        "                # print('^', reply)\n",
        "            # print()\n",
        "    next_page = response['nextPageToken']\n",
        "    request = youtube.commentThreads().list(\n",
        "        part='snippet',\n",
        "        videoId=videoId,\n",
        "        order='time',\n",
        "        pageToken=next_page,\n",
        "        maxResults=100\n",
        "    )\n",
        "    response = request.execute()"
      ],
      "execution_count": null,
      "outputs": []
    },
    {
      "cell_type": "code",
      "metadata": {
        "colab": {
          "base_uri": "https://localhost:8080/"
        },
        "id": "bPnXI97MVy33",
        "outputId": "11c6fbc8-b9bd-4462-bbcd-817fbd0947ce"
      },
      "source": [
        "txt-1"
      ],
      "execution_count": null,
      "outputs": [
        {
          "output_type": "execute_result",
          "data": {
            "text/plain": [
              "996"
            ]
          },
          "metadata": {},
          "execution_count": 21
        }
      ]
    },
    {
      "cell_type": "code",
      "metadata": {
        "id": "C5Oxr5wboLv8"
      },
      "source": [
        "files = set(os.listdir(folder))"
      ],
      "execution_count": null,
      "outputs": []
    },
    {
      "cell_type": "code",
      "metadata": {
        "id": "kBciICG1oiyV"
      },
      "source": [
        "compare = set([str(i)+'.txt' for i in range(1, txt)])"
      ],
      "execution_count": null,
      "outputs": []
    },
    {
      "cell_type": "code",
      "metadata": {
        "colab": {
          "base_uri": "https://localhost:8080/"
        },
        "id": "mfI4sX5doyZK",
        "outputId": "40d4f0cc-be5f-473e-b178-6a2ce955caff"
      },
      "source": [
        "compare.difference(files)"
      ],
      "execution_count": null,
      "outputs": [
        {
          "output_type": "execute_result",
          "data": {
            "text/plain": [
              "set()"
            ]
          },
          "metadata": {},
          "execution_count": 25
        }
      ]
    }
  ]
}